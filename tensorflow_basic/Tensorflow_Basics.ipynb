{
 "cells": [
  {
   "cell_type": "code",
   "execution_count": 22,
   "metadata": {},
   "outputs": [],
   "source": [
    "import tensorflow as tf\n",
    "import numpy as np"
   ]
  },
  {
   "cell_type": "code",
   "execution_count": 4,
   "metadata": {},
   "outputs": [
    {
     "name": "stdout",
     "output_type": "stream",
     "text": [
      "Mul: 10\n",
      "Sub: 2\n",
      "Add: 9\n"
     ]
    }
   ],
   "source": [
    "# Defining Constant\n",
    "\n",
    "five = tf.constant(5)\n",
    "\n",
    "two = tf.constant(2)\n",
    "\n",
    "four = tf.constant(4)\n",
    "\n",
    "# Multiply op\n",
    "mul = tf.multiply(five, two)\n",
    "\n",
    "# Subtract op\n",
    "sub = tf.subtract(four, two)\n",
    "\n",
    "# Add op\n",
    "add = tf.add(five, four)\n",
    "\n",
    "# Create Session\n",
    "sess = tf.Session()\n",
    "\n",
    "out_mul = sess.run(mul)\n",
    "out_sub = sess.run(sub)\n",
    "out_add = sess.run(add)\n",
    "\n",
    "# Close session\n",
    "sess.close()\n",
    "\n",
    "print('Mul: {}'.format(out_mul))\n",
    "print('Sub: {}'.format(out_sub))\n",
    "print('Add: {}'.format(out_add))\n"
   ]
  },
  {
   "cell_type": "markdown",
   "metadata": {},
   "source": [
    "## Understanding Graphs\n",
    "\n",
    "Learn different ways of creating a tensorflow graph"
   ]
  },
  {
   "cell_type": "code",
   "execution_count": 6,
   "metadata": {},
   "outputs": [
    {
     "name": "stdout",
     "output_type": "stream",
     "text": [
      "<tensorflow.python.framework.ops.Graph object at 0x00000000149E8978>\n",
      "<tensorflow.python.framework.ops.Graph object at 0x0000000014A17630>\n"
     ]
    }
   ],
   "source": [
    "print(tf.get_default_graph())\n",
    "\n",
    "g = tf.Graph()\n",
    "print(g)"
   ]
  },
  {
   "cell_type": "code",
   "execution_count": 8,
   "metadata": {},
   "outputs": [
    {
     "name": "stdout",
     "output_type": "stream",
     "text": [
      "False\n",
      "True\n"
     ]
    }
   ],
   "source": [
    "print(five.graph is g)\n",
    "print(five.graph is tf.get_default_graph())"
   ]
  },
  {
   "cell_type": "code",
   "execution_count": 11,
   "metadata": {},
   "outputs": [
    {
     "name": "stdout",
     "output_type": "stream",
     "text": [
      "True\n",
      "False\n",
      "True\n"
     ]
    }
   ],
   "source": [
    "g1 = tf.get_default_graph()\n",
    "g2 = tf.Graph()\n",
    "\n",
    "print(g1 is tf.get_default_graph())\n",
    "\n",
    "with g2.as_default():\n",
    "    # Here scope is changed\n",
    "    print(g1 is tf.get_default_graph())\n",
    "\n",
    "print(g1 is tf.get_default_graph())"
   ]
  },
  {
   "cell_type": "markdown",
   "metadata": {},
   "source": [
    "## Create session - No need to explicity close the session"
   ]
  },
  {
   "cell_type": "code",
   "execution_count": 12,
   "metadata": {},
   "outputs": [
    {
     "name": "stdout",
     "output_type": "stream",
     "text": [
      "out: 5\n"
     ]
    }
   ],
   "source": [
    "with tf.Session() as sess:\n",
    "    out = sess.run(five)\n",
    "\n",
    "print(\"out: {}\".format(out))"
   ]
  },
  {
   "cell_type": "markdown",
   "metadata": {},
   "source": [
    "## Nodes, Tensor Objects, Data types\n",
    "\n",
    "- Operations are considered as Nodes\n",
    "- Tensors are basically Arrays"
   ]
  },
  {
   "cell_type": "code",
   "execution_count": 21,
   "metadata": {},
   "outputs": [
    {
     "name": "stdout",
     "output_type": "stream",
     "text": [
      "Tensor(\"Const_17:0\", shape=(), dtype=int32)\n",
      "<dtype: 'int32'>\n",
      "\r\n",
      "Output: Tensor(\"arr_4:0\", shape=(5,), dtype=float32)\n",
      "\r\n",
      "Type: <dtype: 'float32'>\n"
     ]
    }
   ],
   "source": [
    "four = tf.constant(4)\n",
    "print(four)\n",
    "\n",
    "print(four.dtype)\n",
    "\n",
    "arr = tf.constant(\n",
    "    [10, 20, 30, 40, 50],\n",
    "    name='arr',\n",
    "    dtype=tf.float32\n",
    ")\n",
    "\n",
    "print('\\r\\nOutput: {}'.format(arr))\n",
    "print('\\r\\nType: {}'.format(arr.dtype))"
   ]
  },
  {
   "cell_type": "code",
   "execution_count": 26,
   "metadata": {},
   "outputs": [
    {
     "name": "stdout",
     "output_type": "stream",
     "text": [
      "Shape of 2d list: (2, 3)\n",
      "Shape of 3d list: (2, 2, 3)\n"
     ]
    }
   ],
   "source": [
    "two_dim = tf.constant([[1, 2, 3],\n",
    "                  [4, 5, 6]])\n",
    "print('Shape of 2d list: {}'.format(two_dim.get_shape()))\n",
    "\n",
    "three_dim = tf.constant(np.array([\n",
    "                        [[1, 2, 3], [4, 5, 6]],\n",
    "\n",
    "                        [[7, 8, 9], [0, 1, 2]]\n",
    "                        ]))\n",
    "\n",
    "print('Shape of 3d list: {}'.format(three_dim.get_shape()))"
   ]
  },
  {
   "cell_type": "markdown",
   "metadata": {},
   "source": [
    "## Understanding Names, Names scopes, Variables and Placeholders"
   ]
  },
  {
   "cell_type": "code",
   "execution_count": 33,
   "metadata": {},
   "outputs": [
    {
     "name": "stdout",
     "output_type": "stream",
     "text": [
      "const1:0\n",
      "const2:0\n",
      "const1_1:0\n",
      "const2_1:0\n"
     ]
    }
   ],
   "source": [
    "with tf.Graph().as_default():\n",
    "    constant1 = tf.constant(1, dtype=tf.float64, name='const1')\n",
    "    constant2 = tf.constant(2, dtype=tf.int32, name='const2')\n",
    "    \n",
    "    constant3 = tf.constant(3, dtype=tf.float64, name='const1')\n",
    "    constant4 = tf.constant(4, dtype=tf.int32, name='const2')\n",
    "\n",
    "print(constant1.name)\n",
    "print(constant2.name)\n",
    "print(constant3.name)\n",
    "print(constant4.name)"
   ]
  },
  {
   "cell_type": "code",
   "execution_count": 35,
   "metadata": {},
   "outputs": [
    {
     "name": "stdout",
     "output_type": "stream",
     "text": [
      "const1:0\n",
      "Prefix/const1:0\n",
      "Prefix/const1_1:0\n"
     ]
    }
   ],
   "source": [
    "# Name Scopes\n",
    "# Using prefix_name\n",
    "\n",
    "with tf.Graph().as_default():\n",
    "    constant1 = tf.constant(1, dtype=tf.float64, name='const1')\n",
    "    with tf.name_scope(\"Prefix\"):\n",
    "        constant2 = tf.constant(1, dtype=tf.float64, name='const1')\n",
    "        constant3 = tf.constant(1, dtype=tf.float64, name='const1')\n",
    "\n",
    "print(constant1.name)\n",
    "print(constant2.name)\n",
    "print(constant3.name)"
   ]
  },
  {
   "cell_type": "code",
   "execution_count": 38,
   "metadata": {},
   "outputs": [
    {
     "name": "stdout",
     "output_type": "stream",
     "text": [
      "pre run: \n",
      "<tf.Variable 'var_2:0' shape=(2, 3) dtype=int32_ref>\n",
      "\n",
      "post run: \n",
      "[[1 1 1]\n",
      " [4 5 6]]\n"
     ]
    }
   ],
   "source": [
    "# Variables\n",
    "\n",
    "var1 = tf.Variable([[1, 1, 1], [4, 5, 6]], name='var')\n",
    "print(\"pre run: \\n{}\".format(var1))\n",
    "\n",
    "init = tf.global_variables_initializer()\n",
    "with tf.Session() as sess:\n",
    "    sess.run(init)\n",
    "    out = sess.run(var1)\n",
    "\n",
    "print(\"\\npost run: \\n{}\".format(out))"
   ]
  },
  {
   "cell_type": "code",
   "execution_count": 47,
   "metadata": {},
   "outputs": [
    {
     "name": "stdout",
     "output_type": "stream",
     "text": [
      "Matrix Multiplication result is:\r\n",
      "[[-2.6689072 -1.1418684]\n",
      " [ 3.6265526 -2.0389369]\n",
      " [-2.2144015 -2.1633053]]\n"
     ]
    }
   ],
   "source": [
    "# Placeholders\n",
    "\n",
    "# Generate data for the placeholders\n",
    "x_data = np.random.randn(3, 5)\n",
    "y_data = np.random.randn(5, 2)\n",
    "\n",
    "with tf.Graph().as_default():\n",
    "    \n",
    "    # Create placeholder, define data type and shape\n",
    "    x = tf.placeholder(tf.float32, shape=(3, 5))\n",
    "    y = tf.placeholder(tf.float32, shape=(5, 2))\n",
    "    \n",
    "    # Run matrix multiplication op on placeholders\n",
    "    xy = tf.matmul(x, y)\n",
    "    \n",
    "    with tf.Session() as sess:\n",
    "        out = sess.run(xy, feed_dict={x: x_data, y: y_data})\n",
    "\n",
    "print(\"Matrix Multiplication result is:\\r\\n{}\".format(out))\n",
    "    "
   ]
  },
  {
   "cell_type": "code",
   "execution_count": null,
   "metadata": {},
   "outputs": [],
   "source": []
  }
 ],
 "metadata": {
  "kernelspec": {
   "display_name": "Python [conda env:tia]",
   "language": "python",
   "name": "conda-env-tia-py"
  },
  "language_info": {
   "codemirror_mode": {
    "name": "ipython",
    "version": 3
   },
   "file_extension": ".py",
   "mimetype": "text/x-python",
   "name": "python",
   "nbconvert_exporter": "python",
   "pygments_lexer": "ipython3",
   "version": "3.6.5"
  }
 },
 "nbformat": 4,
 "nbformat_minor": 2
}
